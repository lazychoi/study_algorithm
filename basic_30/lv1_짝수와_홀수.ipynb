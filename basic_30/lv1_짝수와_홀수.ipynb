{
 "cells": [
  {
   "cell_type": "markdown",
   "metadata": {},
   "source": [
    "https://programmers.co.kr/learn/courses/30/lessons/12937"
   ]
  },
  {
   "cell_type": "code",
   "execution_count": 7,
   "metadata": {},
   "outputs": [
    {
     "data": {
      "text/plain": [
       "'Even'"
      ]
     },
     "execution_count": 7,
     "metadata": {},
     "output_type": "execute_result"
    }
   ],
   "source": [
    "# 내가 푼 코드\n",
    "num = 4\n",
    "answer = 'Odd' if num % 2 == 1 else 'Even'\n",
    "answer"
   ]
  },
  {
   "cell_type": "code",
   "execution_count": 8,
   "metadata": {},
   "outputs": [
    {
     "data": {
      "text/plain": [
       "'Even'"
      ]
     },
     "execution_count": 8,
     "metadata": {},
     "output_type": "execute_result"
    }
   ],
   "source": [
    "# 다른 사람 코드\n",
    "[\"Even\", \"Odd\"][num & 1]"
   ]
  },
  {
   "cell_type": "code",
   "execution_count": 15,
   "metadata": {},
   "outputs": [
    {
     "data": {
      "text/plain": [
       "(0, 1, 0)"
      ]
     },
     "execution_count": 15,
     "metadata": {},
     "output_type": "execute_result"
    }
   ],
   "source": [
    "# 비트 연산\n",
    "# 1과 & 연산을 하면 오른쪽 끝자리가 1이기 때문에\n",
    "# 연산 대상 숫자의 오른쪽 끝자리가 1이면 1, 0이면 0이 된다.\n",
    "# 10진수 짝수는 2진수 오른쪽 끝자리가 0, 홀수는 1이다.\n",
    "# 따라서 짝수와 1의 &연산은 0, 홀수와의 연산은 1이 된다. \n",
    "\n",
    "4 & 1, 3 & 1, 0 & 1\n",
    "\n",
    "# 4 = 000 0100\n",
    "# 1 = 000 0001\n",
    "# ------------\n",
    "# 0 = 000 0000"
   ]
  }
 ],
 "metadata": {
  "kernelspec": {
   "display_name": "Python 3.9.12 ('base')",
   "language": "python",
   "name": "python3"
  },
  "language_info": {
   "codemirror_mode": {
    "name": "ipython",
    "version": 3
   },
   "file_extension": ".py",
   "mimetype": "text/x-python",
   "name": "python",
   "nbconvert_exporter": "python",
   "pygments_lexer": "ipython3",
   "version": "3.9.12"
  },
  "orig_nbformat": 4,
  "vscode": {
   "interpreter": {
    "hash": "38cca0c38332a56087b24af0bc80247f4fced29cb4f7f437d91dc159adec9c4e"
   }
  }
 },
 "nbformat": 4,
 "nbformat_minor": 2
}
