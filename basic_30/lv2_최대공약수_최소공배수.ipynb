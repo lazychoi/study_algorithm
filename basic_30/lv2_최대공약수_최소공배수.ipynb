{
 "cells": [
  {
   "cell_type": "markdown",
   "metadata": {},
   "source": [
    "https://school.programmers.co.kr/learn/courses/30/lessons/12940"
   ]
  },
  {
   "cell_type": "code",
   "execution_count": 17,
   "metadata": {},
   "outputs": [
    {
     "name": "stdout",
     "output_type": "stream",
     "text": [
      "[1, 10]\n"
     ]
    }
   ],
   "source": [
    "# 유클리드 호제법 기억이 가물가물할 때 짠 코드\n",
    "# 최대공약수 -> a % b = c 일때 b % c = 0 -> 최대공약수 c\n",
    "n , m = 2, 5\n",
    "\n",
    "answer = []\n",
    "def gcd(n, m):\n",
    "    r = n % m\n",
    "    if r == 0:     # 나누어 떨어지면 m이 최대공약수\n",
    "        return m\n",
    "    elif m / r == 0:  # m을 나머지로 나누어 떨어지면 나머지가 최대공약수\n",
    "        return r\n",
    "    return gcd(m, r) # 나머지가 0일 때까지 반복(모든 수는 1로 나누면 나머지=0)\n",
    "\n",
    "def lcm(n, m):   # 최소공배수는 최대공약수 * 각 수를 최대공약수로 나눈 몫\n",
    "    a = gcd(n, m )\n",
    "    return int(a * (n / a) * (m / a))\n",
    "\n",
    "answer.extend([gcd(n, m), lcm(n, m)])\n",
    "print(answer)"
   ]
  },
  {
   "cell_type": "markdown",
   "metadata": {},
   "source": [
    "## 유클리드 호제법\n",
    "\n",
    "- 호제법: 서로 나눈다\n",
    "- a를 b로 나눈 나머지를 r이라고 하면 a와 b의 최대공약수 = b와 r의 최대공약수\n",
    "\n",
    "### 구현\n",
    "\n",
    "- a % b = r\n",
    "- b % r = r2\n",
    "- r % r2 = r3\n",
    "- ....\n",
    "- if rn = 0, then rn = 최대공약수\n",
    "\n",
    "큰 수와 작은 수의 순서는 고려하지 않아도 된다.  왜냐하면, 작은 수를 큰 수로 나누면 나머지가 작은 수가 되고 이를 재귀함수로 넘기면 큰 수가 앞에 오기 때문이다. eg. gcd(8, 40) -> 나머지 8 -> gcd(40, 8)\n",
    "\n",
    "### 최소공배수\n",
    "\n",
    "gcd * a/gcd * b/gcd = a*b/gcd\n",
    "\n",
    "<img src=\"gcdlcm.jpeg\" width=\"300\">"
   ]
  },
  {
   "cell_type": "code",
   "execution_count": 21,
   "metadata": {},
   "outputs": [
    {
     "data": {
      "text/plain": [
       "8"
      ]
     },
     "execution_count": 21,
     "metadata": {},
     "output_type": "execute_result"
    }
   ],
   "source": [
    "# 유클리드 호제법을 다시 공부한 뒤 짠 코드\n",
    "def gcd(n, m):\n",
    "    r = n % m\n",
    "    if r == 0:\n",
    "        return m\n",
    "    else:\n",
    "        return gcd(m , r)\n",
    "gcd(8, 40)"
   ]
  },
  {
   "cell_type": "code",
   "execution_count": 25,
   "metadata": {},
   "outputs": [],
   "source": [
    "# 다른 사람 코드. 아이디어는 같고 람다 함수로 짧게 구현\n",
    "gcd = lambda a,b : b if not a%b else gcd(b, a%b)\n",
    "lcm = lambda a,b : a*b//gcd(a,b)"
   ]
  },
  {
   "cell_type": "code",
   "execution_count": null,
   "metadata": {},
   "outputs": [],
   "source": []
  }
 ],
 "metadata": {
  "kernelspec": {
   "display_name": "Python 3.9.12 ('base')",
   "language": "python",
   "name": "python3"
  },
  "language_info": {
   "codemirror_mode": {
    "name": "ipython",
    "version": 3
   },
   "file_extension": ".py",
   "mimetype": "text/x-python",
   "name": "python",
   "nbconvert_exporter": "python",
   "pygments_lexer": "ipython3",
   "version": "3.9.12"
  },
  "orig_nbformat": 4,
  "vscode": {
   "interpreter": {
    "hash": "38cca0c38332a56087b24af0bc80247f4fced29cb4f7f437d91dc159adec9c4e"
   }
  }
 },
 "nbformat": 4,
 "nbformat_minor": 2
}
